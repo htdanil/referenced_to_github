{
 "cells": [
  {
   "cell_type": "markdown",
   "metadata": {},
   "source": [
    "### Loading rpy2 environment for simultaneous R and Python execution and data exchange between them"
   ]
  },
  {
   "cell_type": "code",
   "execution_count": 1,
   "metadata": {
    "collapsed": true
   },
   "outputs": [
    {
     "name": "stderr",
     "output_type": "stream",
     "text": [
      "D:\\programs\\Python37\\lib\\site-packages\\rpy2\\robjects\\packages.py:366: UserWarning: The symbol 'quartz' is not in this R namespace/package.\n",
      "  \"The symbol '%s' is not in this R namespace/package.\" % name\n"
     ]
    }
   ],
   "source": [
    "import rpy2.rinterface\n",
    "from IPython.display import Image\n",
    "%load_ext rpy2.ipython"
   ]
  },
  {
   "cell_type": "markdown",
   "metadata": {},
   "source": [
    "### Loading necessary packages for R"
   ]
  },
  {
   "cell_type": "code",
   "execution_count": 2,
   "metadata": {
    "collapsed": true
   },
   "outputs": [
    {
     "name": "stderr",
     "output_type": "stream",
     "text": [
      "R[write to console]: Loading required package: MASS\n",
      "\n",
      "R[write to console]: Loading required package: strucchange\n",
      "\n",
      "R[write to console]: Loading required package: zoo\n",
      "\n",
      "R[write to console]: \n",
      "Attaching package: 'zoo'\n",
      "\n",
      "\n",
      "R[write to console]: The following objects are masked from 'package:base':\n",
      "\n",
      "    as.Date, as.Date.numeric\n",
      "\n",
      "\n",
      "R[write to console]: Loading required package: sandwich\n",
      "\n",
      "R[write to console]: Loading required package: urca\n",
      "\n",
      "R[write to console]: Loading required package: lmtest\n",
      "\n"
     ]
    }
   ],
   "source": [
    "%%R\n",
    "library(vars)\n",
    "library(glue)\n",
    "library(dynlm)"
   ]
  },
  {
   "cell_type": "markdown",
   "metadata": {},
   "source": [
    "### Loading necessary packages for python"
   ]
  },
  {
   "cell_type": "code",
   "execution_count": 3,
   "metadata": {},
   "outputs": [],
   "source": [
    "import pandas as pd\n",
    "import matplotlib.pyplot as plt\n",
    "import numpy as np"
   ]
  },
  {
   "cell_type": "markdown",
   "metadata": {},
   "source": [
    "### Loading data and performing data manipulation"
   ]
  },
  {
   "cell_type": "code",
   "execution_count": 4,
   "metadata": {
    "collapsed": true
   },
   "outputs": [
    {
     "name": "stderr",
     "output_type": "stream",
     "text": [
      "D:\\programs\\Python37\\lib\\site-packages\\rpy2\\robjects\\pandas2ri.py:63: UserWarning: Error while trying to convert the column \"quarter\". Fall back to string conversion. The error is: module 'pandas' has no attribute 'NA'\n",
      "  % (name, str(e)))\n"
     ]
    }
   ],
   "source": [
    "df = pd.read_csv('https://raw.githubusercontent.com/htdanil/referenced_to_github/master/G0003%20data_ex1.csv')\n",
    "\n",
    "#------------------------------------------------------------\n",
    "#defining date index for the dataframe\n",
    "#------------------------------------------------------------\n",
    "index = pd.date_range('2000Q1', periods=df.shape[0], freq='Q')\n",
    "df.set_index(index,inplace=True)\n",
    "\n",
    "#---------------------------------------------------------------------\n",
    "#log conversion and trend variables creation\n",
    "#---------------------------------------------------------------------\n",
    "df[['lg','lgc','lgi','lt','ly']] = np.log(df[['g','gc','gi','t','y']])\n",
    "df['trend'] = range(1,df.shape[0]+1)\n",
    "df['trend_2'] = np.power(df['trend'],2)\n",
    "\n",
    "#---------------------------------------------------------------------\n",
    "#Pushing dataframe to R environment\n",
    "#---------------------------------------------------------------------\n",
    "%Rpush df"
   ]
  },
  {
   "cell_type": "code",
   "execution_count": 5,
   "metadata": {},
   "outputs": [],
   "source": [
    "%%R\n",
    "#---------------------------------------------------------------------\n",
    "#Creating time series (ts) objects in R\n",
    "#---------------------------------------------------------------------\n",
    "lg   <- ts(log(df$g), start = c(2000,1), frequency = 4)\n",
    "lgc  <- ts(log(df$gc), start = c(2000,1), frequency = 4)\n",
    "lgi  <- ts(log(df$gi), start = c(2000,1), frequency = 4)\n",
    "ltax <- ts(log(df$t), start = c(2000,1), frequency = 4)\n",
    "ly   <- ts(log(df$y), start = c(2000,1), frequency = 4)\n",
    "\n",
    "trend   <- ts(log(df$trend), start = c(2000,1), frequency = 4)\n",
    "trend_2 <- ts(log(df$trend_2), start = c(2000,1), frequency = 4)"
   ]
  },
  {
   "cell_type": "markdown",
   "metadata": {},
   "source": [
    "---\n",
    "\n",
    "## VAR models\n",
    "  \n",
    "Lag selection is done with AIC(n) criteria with max lag of 6 with both intercept and trend components. The result shows that lag selection should be of 2.\n",
    "\n",
    "---"
   ]
  },
  {
   "cell_type": "code",
   "execution_count": 6,
   "metadata": {},
   "outputs": [
    {
     "name": "stdout",
     "output_type": "stream",
     "text": [
      "$selection\n",
      "AIC(n)  HQ(n)  SC(n) FPE(n) \n",
      "     2      1      1      2 \n",
      "\n",
      "$criteria\n",
      "                   1             2             3             4             5\n",
      "AIC(n) -1.529716e+01 -1.535099e+01 -1.524254e+01 -1.518768e+01 -1.524764e+01\n",
      "HQ(n)  -1.510185e+01 -1.503848e+01 -1.481285e+01 -1.464080e+01 -1.458357e+01\n",
      "SC(n)  -1.480358e+01 -1.456125e+01 -1.415665e+01 -1.380563e+01 -1.356944e+01\n",
      "FPE(n)  2.274514e-07  2.160939e-07  2.421896e-07  2.583532e-07  2.470574e-07\n",
      "                   6\n",
      "AIC(n) -1.501982e+01\n",
      "HQ(n)  -1.423857e+01\n",
      "SC(n)  -1.304547e+01\n",
      "FPE(n)  3.172465e-07\n",
      "\n"
     ]
    }
   ],
   "source": [
    "%%R\n",
    "data4var <- cbind(lg,ly,ltax)\n",
    "print(VARselect(data4var, lag.max = 6, type = 'both'))"
   ]
  },
  {
   "cell_type": "code",
   "execution_count": 7,
   "metadata": {},
   "outputs": [
    {
     "name": "stdout",
     "output_type": "stream",
     "text": [
      "\n",
      "VAR Estimation Results:\n",
      "========================= \n",
      "Endogenous variables: lg, ly, ltax \n",
      "Deterministic variables: both \n",
      "Sample size: 71 \n",
      "Log Likelihood: 271.432 \n",
      "Roots of the characteristic polynomial:\n",
      "0.9558 0.7042 0.4175 0.4175 0.294 0.216\n",
      "Call:\n",
      "VAR(y = data4var, p = 2, type = \"both\")\n",
      "\n",
      "\n",
      "Estimation results for equation lg: \n",
      "=================================== \n",
      "lg = lg.l1 + ly.l1 + ltax.l1 + lg.l2 + ly.l2 + ltax.l2 + const + trend \n",
      "\n",
      "         Estimate Std. Error t value Pr(>|t|)  \n",
      "lg.l1    0.284800   0.124200   2.293   0.0252 *\n",
      "ly.l1   -1.303834   0.950483  -1.372   0.1750  \n",
      "ltax.l1 -0.029883   0.030277  -0.987   0.3274  \n",
      "lg.l2    0.073538   0.123935   0.593   0.5551  \n",
      "ly.l2    2.058678   0.939570   2.191   0.0322 *\n",
      "ltax.l2  0.018680   0.030250   0.618   0.5391  \n",
      "const   -1.909665   1.766577  -1.081   0.2838  \n",
      "trend   -0.003428   0.001739  -1.972   0.0530 .\n",
      "---\n",
      "Signif. codes:  0 '***' 0.001 '**' 0.01 '*' 0.05 '.' 0.1 ' ' 1\n",
      "\n",
      "\n",
      "Residual standard error: 0.09071 on 63 degrees of freedom\n",
      "Multiple R-Squared: 0.6854,\tAdjusted R-squared: 0.6505 \n",
      "F-statistic: 19.61 on 7 and 63 DF,  p-value: 1.162e-13 \n",
      "\n",
      "\n",
      "Estimation results for equation ly: \n",
      "=================================== \n",
      "ly = lg.l1 + ly.l1 + ltax.l1 + lg.l2 + ly.l2 + ltax.l2 + const + trend \n",
      "\n",
      "          Estimate Std. Error t value Pr(>|t|)    \n",
      "lg.l1    0.0084075  0.0160355   0.524   0.6019    \n",
      "ly.l1    0.9739968  0.1227173   7.937  4.6e-11 ***\n",
      "ltax.l1  0.0010436  0.0039091   0.267   0.7904    \n",
      "lg.l2   -0.0374660  0.0160014  -2.341   0.0224 *  \n",
      "ly.l2    0.0212553  0.1213084   0.175   0.8615    \n",
      "ltax.l2  0.0033573  0.0039057   0.860   0.3933    \n",
      "const    0.2544572  0.2280836   1.116   0.2688    \n",
      "trend    0.0000383  0.0002245   0.171   0.8651    \n",
      "---\n",
      "Signif. codes:  0 '***' 0.001 '**' 0.01 '*' 0.05 '.' 0.1 ' ' 1\n",
      "\n",
      "\n",
      "Residual standard error: 0.01171 on 63 degrees of freedom\n",
      "Multiple R-Squared: 0.996,\tAdjusted R-squared: 0.9956 \n",
      "F-statistic:  2242 on 7 and 63 DF,  p-value: < 2.2e-16 \n",
      "\n",
      "\n",
      "Estimation results for equation ltax: \n",
      "===================================== \n",
      "ltax = lg.l1 + ly.l1 + ltax.l1 + lg.l2 + ly.l2 + ltax.l2 + const + trend \n",
      "\n",
      "         Estimate Std. Error t value Pr(>|t|)  \n",
      "lg.l1    0.066476   0.511822   0.130   0.8971  \n",
      "ly.l1    6.936436   3.916892   1.771   0.0814 .\n",
      "ltax.l1  0.004538   0.124771   0.036   0.9711  \n",
      "lg.l2   -0.850019   0.510732  -1.664   0.1010  \n",
      "ly.l2   -4.944039   3.871920  -1.277   0.2063  \n",
      "ltax.l2  0.105556   0.124661   0.847   0.4003  \n",
      "const   -5.659108   7.279972  -0.777   0.4399  \n",
      "trend   -0.009883   0.007165  -1.379   0.1727  \n",
      "---\n",
      "Signif. codes:  0 '***' 0.001 '**' 0.01 '*' 0.05 '.' 0.1 ' ' 1\n",
      "\n",
      "\n",
      "Residual standard error: 0.3738 on 63 degrees of freedom\n",
      "Multiple R-Squared: 0.1322,\tAdjusted R-squared: 0.03583 \n",
      "F-statistic: 1.372 on 7 and 63 DF,  p-value: 0.233 \n",
      "\n",
      "\n",
      "\n",
      "Covariance matrix of residuals:\n",
      "            lg        ly      ltax\n",
      "lg   0.0082288 0.0002162 0.0102697\n",
      "ly   0.0002162 0.0001372 0.0003163\n",
      "ltax 0.0102697 0.0003163 0.1397436\n",
      "\n",
      "Correlation matrix of residuals:\n",
      "         lg      ly    ltax\n",
      "lg   1.0000 0.20348 0.30285\n",
      "ly   0.2035 1.00000 0.07223\n",
      "ltax 0.3028 0.07223 1.00000\n",
      "\n",
      "\n"
     ]
    }
   ],
   "source": [
    "%%R\n",
    "#---------------------------------------------------------------------\n",
    "# VAR model is constructed for log(g), log(y) and log(tax) with lag selection of 2\n",
    "# with with both intercept and trend components.\n",
    "#---------------------------------------------------------------------\n",
    "model_var <- VAR(data4var, p = 2, type = 'both')\n",
    "summary(model_var)"
   ]
  },
  {
   "cell_type": "code",
   "execution_count": 8,
   "metadata": {},
   "outputs": [
    {
     "data": {
      "image/png": "[encoded data removed]"
     },
     "metadata": {},
     "output_type": "display_data"
    }
   ],
   "source": [
    "%%R -w 800 -h 500\n",
    "\n",
    "#---------------------------------------------------------------------\n",
    "# Constructing impulse responses of log(y) due to shock in log(g)\n",
    "#---------------------------------------------------------------------\n",
    "irf <- irf(model_var, \n",
    "            impulse = 'lg', \n",
    "            response = 'ly', \n",
    "            n.ahead = 10, #optional (default: 10)\n",
    "            boot = TRUE, #optional (default: TRUE)\n",
    "            runs = 500, #optional (default:100)\n",
    "            ortho = TRUE, #optional (default: TRUE)\n",
    "            ci = 0.9) #optional (default: 0.95)\n",
    "\n",
    "plot(irf)"
   ]
  },
  {
   "cell_type": "markdown",
   "metadata": {},
   "source": [
    "---\n",
    "\n",
    "### Repeating similar procedure for log(gc), log(y), log(tax) and log(gi), log(y), log(tax) models.\n",
    "\n",
    "---"
   ]
  },
  {
   "cell_type": "code",
   "execution_count": 9,
   "metadata": {},
   "outputs": [
    {
     "name": "stdout",
     "output_type": "stream",
     "text": [
      "AIC(n)  HQ(n)  SC(n) FPE(n) \n",
      "     2      1      1      2 \n"
     ]
    },
    {
     "data": {
      "image/png": "[encoded data removed]"
     },
     "metadata": {},
     "output_type": "display_data"
    }
   ],
   "source": [
    "%%R -w 800 -h 500\n",
    "data4var <- cbind(lgc,ly,ltax)\n",
    "print(VARselect(data4var, lag.max = 6, type = 'both')$selection)\n",
    "model_var <- VAR(data4var, p = 2, type = 'both')\n",
    "irf <- irf(model_var, \n",
    "            impulse = 'lgc', \n",
    "            response = 'ly', \n",
    "            n.ahead = 10, #optional (default: 10)\n",
    "            boot = TRUE, #optional (default: TRUE)\n",
    "            runs = 500, #optional (default:100)\n",
    "            ortho = TRUE, #optional (default: TRUE)\n",
    "            ci = 0.9) #optional (default: 0.95)\n",
    "plot(irf)"
   ]
  },
  {
   "cell_type": "code",
   "execution_count": 10,
   "metadata": {},
   "outputs": [
    {
     "name": "stdout",
     "output_type": "stream",
     "text": [
      "AIC(n)  HQ(n)  SC(n) FPE(n) \n",
      "     1      1      1      1 \n"
     ]
    },
    {
     "data": {
      "image/png": "[encoded data removed]"
     },
     "metadata": {},
     "output_type": "display_data"
    }
   ],
   "source": [
    "%%R -w 800 -h 500\n",
    "data4var <- cbind(lgi,ly,ltax)\n",
    "print(VARselect(data4var, lag.max = 6, type = 'both')$selection)\n",
    "model_var <- VAR(data4var, p = 1, type = 'both')\n",
    "irf <- irf(model_var, \n",
    "            impulse = 'lgi', \n",
    "            response = 'ly', \n",
    "            n.ahead = 10, #optional (default: 10)\n",
    "            boot = TRUE, #optional (default: TRUE)\n",
    "            runs = 500, #optional (default:100)\n",
    "            ortho = TRUE, #optional (default: TRUE)\n",
    "            ci = 0.9) #optional (default: 0.95)\n",
    "\n",
    "plot(irf)"
   ]
  },
  {
   "cell_type": "markdown",
   "metadata": {},
   "source": [
    "---\n",
    "\n",
    "### Local Projection estimation of impulse responses\n",
    "\n",
    "First we have to identify shocks for government spending (lg), government consumption (lgc), and government investment (lgi). This is done with OLS (the first equation of SVAR with ordering) and the number of lags is based on the lag selection criteria of VAR.\n",
    "\n",
    "---"
   ]
  },
  {
   "cell_type": "code",
   "execution_count": 11,
   "metadata": {},
   "outputs": [
    {
     "data": {
      "image/png": "[encoded data removed]"
     },
     "metadata": {},
     "output_type": "display_data"
    }
   ],
   "source": [
    "%%R\n",
    "lg_shock <- dynlm(lg ~ L(lg,1:2) + L(ly,1:2) + L(ltax,1:2) + trend(lg, scale = FALSE))$residuals #2 lags\n",
    "lgc_shock <- dynlm(lgc ~ L(lgc,1:2) + L(ly,1:2) + L(ltax,1:2) + trend(lg, scale = FALSE))$residuals #2 lags\n",
    "lgi_shock <- dynlm(lgi ~ L(lgi,1) + L(ly,1) + L(ltax,1) + trend(lg, scale = FALSE))$residuals #1 lag\n",
    "\n",
    "#plotting identified shocks\n",
    "plot(cbind(lg_shock,lgc_shock,lgi_shock), main='Identified Shocks')"
   ]
  },
  {
   "cell_type": "code",
   "execution_count": 12,
   "metadata": {},
   "outputs": [],
   "source": [
    "%%R\n",
    "#----------------------------------------------------------\n",
    "# creating empty variable\n",
    "#----------------------------------------------------------\n",
    "lg_coef <- NULL\n",
    "lg_se <- NULL\n",
    "\n",
    "#----------------------------------------------------------\n",
    "# setting horizon to 20\n",
    "#----------------------------------------------------------\n",
    "horizon = 20\n",
    "\n",
    "#----------------------------------------------------------\n",
    "# loop for construct series of impulse responses \n",
    "# and standard error for confidence interval construction\n",
    "#----------------------------------------------------------\n",
    "for (i in seq(0,horizon,1)){\n",
    "    reg <- summary(dynlm(lag(ly,i) ~ L(lg_shock,0:2) + L(ly,1:2) + L(ltax,1:2) + L(lg,1:2)))\n",
    "    coef_ <- reg$coefficients['L(lg_shock, 0:2)0','Estimate']\n",
    "    se_ <- reg$coefficients['L(lg_shock, 0:2)0','Std. Error']\n",
    "    lg_coef <- c(lg_coef, coef_ )\n",
    "    lg_se <- c(lg_se, se_)\n",
    "}"
   ]
  },
  {
   "cell_type": "code",
   "execution_count": 13,
   "metadata": {},
   "outputs": [],
   "source": [
    "%%R\n",
    "#----------------------------------------------------------\n",
    "# Repeating similar process as above\n",
    "#----------------------------------------------------------\n",
    "\n",
    "lgc_coef <- NULL\n",
    "lgc_se <- NULL\n",
    "\n",
    "for (i in seq(0,horizon,1)){\n",
    "    reg <- summary(dynlm(lag(ly,i) ~ L(lgc_shock,0:2) + L(ly,1:2) + L(ltax,1:2) + L(lgc,1:2)))\n",
    "    coef_ <- reg$coefficients['L(lgc_shock, 0:2)0','Estimate']\n",
    "    se_ <- reg$coefficients['L(lgc_shock, 0:2)0','Std. Error']\n",
    "    lgc_coef <- c(lgc_coef, coef_ )\n",
    "    lgc_se <- c(lgc_se, se_)\n",
    "}"
   ]
  },
  {
   "cell_type": "code",
   "execution_count": 14,
   "metadata": {},
   "outputs": [],
   "source": [
    "%%R\n",
    "#----------------------------------------------------------\n",
    "# creating empty variable\n",
    "#----------------------------------------------------------\n",
    "\n",
    "lgi_coef <- NULL\n",
    "lgi_se <- NULL\n",
    "\n",
    "for (i in seq(0,horizon,1)){\n",
    "    reg <- summary(dynlm(lag(ly,i) ~ L(lgi_shock,0:2) + L(ly,1:2) + L(ltax,1:2) + L(lgi,1:2)))\n",
    "    coef_ <- reg$coefficients['L(lgi_shock, 0:2)0','Estimate']\n",
    "    se_ <- reg$coefficients['L(lgi_shock, 0:2)0','Std. Error']\n",
    "    lgi_coef <- c(lgi_coef, coef_ )\n",
    "    lgi_se <- c(lgi_se, se_)\n",
    "}"
   ]
  },
  {
   "cell_type": "code",
   "execution_count": 15,
   "metadata": {},
   "outputs": [],
   "source": [
    "#----------------------------------------------------------\n",
    "# exchanging variables from R to Python for graphing\n",
    "#----------------------------------------------------------\n",
    "lg_coef = %Rget lg_coef\n",
    "lgc_coef = %Rget lgc_coef\n",
    "lgi_coef = %Rget lgi_coef\n",
    "\n",
    "lg_se = %Rget lg_se\n",
    "lgc_se = %Rget lgc_se\n",
    "lgi_se = %Rget lgi_se"
   ]
  },
  {
   "cell_type": "code",
   "execution_count": 16,
   "metadata": {},
   "outputs": [
    {
     "data": {
      "text/plain": [
       "Text(0.5, 1.0, 'Local Projection : LOG(GI) --> LOG(Y)')"
      ]
     },
     "execution_count": 16,
     "metadata": {},
     "output_type": "execute_result"
    },
    {
     "data": {
      "image/png": "[encoded data removed]",
      "text/plain": [
       "<Figure size 576x1080 with 3 Axes>"
      ]
     },
     "metadata": {
      "needs_background": "light"
     },
     "output_type": "display_data"
    }
   ],
   "source": [
    "#----------------------------------------------------------\n",
    "# Graphing of Local Projection impulse responses\n",
    "#----------------------------------------------------------\n",
    "\n",
    "fig = plt.figure(figsize=(8,15))\n",
    "ax1 = fig.add_subplot(3,1,1)\n",
    "ax2 = fig.add_subplot(3,1,2)\n",
    "ax3 = fig.add_subplot(3,1,3)\n",
    "\n",
    "horizon = 11\n",
    "\n",
    "ax1.plot(lg_coef[:horizon])\n",
    "ax1.plot((lg_coef + 1.645 * lg_se)[:horizon],color='red',linewidth=0.8,linestyle='--')\n",
    "ax1.plot((lg_coef - 1.645 * lg_se)[:horizon],color='red',linewidth=0.8,linestyle='--')\n",
    "ax1.axhline(0, color='black', linestyle=':', linewidth=1)\n",
    "ax1.set_title('Local Projection : LOG(G) --> LOG(Y)')\n",
    "\n",
    "ax2.plot(lgc_coef[:horizon])\n",
    "ax2.plot((lgc_coef + 1.645 * lgc_se)[:horizon],color='red',linewidth=0.8,linestyle='--')\n",
    "ax2.plot((lgc_coef - 1.645 * lgc_se)[:horizon],color='red',linewidth=0.8,linestyle='--')\n",
    "ax2.axhline(0, color='black', linestyle=':', linewidth=1)\n",
    "ax2.set_title('Local Projection : LOG(GC) --> LOG(Y)')\n",
    "\n",
    "ax3.plot(lgi_coef[:horizon])\n",
    "ax3.plot((lgi_coef + 1.645 * lgi_se)[:horizon],color='red',linewidth=0.8,linestyle='--')\n",
    "ax3.plot((lgi_coef - 1.645 * lgi_se)[:horizon],color='red',linewidth=0.8,linestyle='--')\n",
    "ax3.axhline(0, color='black', linestyle=':', linewidth=1)\n",
    "ax3.set_title('Local Projection : LOG(GI) --> LOG(Y)')"
   ]
  }
 ],
 "metadata": {
  "kernelspec": {
   "display_name": "Python 3.7.5 64-bit",
   "language": "python",
   "name": "python37564bit93fc3785059c4825b5a2979f36c05b93"
  },
  "language_info": {
   "codemirror_mode": {
    "name": "ipython",
    "version": 3
   },
   "file_extension": ".py",
   "mimetype": "text/x-python",
   "name": "python",
   "nbconvert_exporter": "python",
   "pygments_lexer": "ipython3",
   "version": "3.7.5"
  }
 },
 "nbformat": 4,
 "nbformat_minor": 2
}
